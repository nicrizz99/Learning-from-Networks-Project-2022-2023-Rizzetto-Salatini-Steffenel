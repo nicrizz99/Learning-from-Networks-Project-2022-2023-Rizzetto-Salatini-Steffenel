{
  "cells": [
    {
      "cell_type": "code",
      "execution_count": null,
      "metadata": {
        "colab": {
          "base_uri": "https://localhost:8080/"
        },
        "id": "Bb5rOE7coY4C",
        "outputId": "197c1d2a-dc96-45e4-9554-dbf29288f7ac"
      },
      "outputs": [
        {
          "output_type": "stream",
          "name": "stdout",
          "text": [
            "Mounted at /content/drive\n"
          ]
        }
      ],
      "source": [
        "from google.colab import drive\n",
        "drive.mount('/content/drive')"
      ]
    },
    {
      "cell_type": "markdown",
      "metadata": {
        "id": "4mkIPkgdVZ3b"
      },
      "source": [
        "Use GPU:"
      ]
    },
    {
      "cell_type": "code",
      "execution_count": null,
      "metadata": {
        "colab": {
          "base_uri": "https://localhost:8080/",
          "height": 36
        },
        "id": "cCkeS9M331fv",
        "outputId": "d78ae615-cb50-4f50-97f5-c219ac2cf674"
      },
      "outputs": [
        {
          "output_type": "execute_result",
          "data": {
            "text/plain": [
              "''"
            ],
            "application/vnd.google.colaboratory.intrinsic+json": {
              "type": "string"
            }
          },
          "metadata": {},
          "execution_count": 2
        }
      ],
      "source": [
        "import numpy as np\n",
        "import matplotlib.pyplot as plt\n",
        "\n",
        "import torch\n",
        "import torch.nn as nn\n",
        "import torch.optim as optim\n",
        "from torch.utils.data import Dataset, DataLoader\n",
        "from torchvision import transforms\n",
        "import tensorflow as tf\n",
        "import keras\n",
        "\n",
        "tf.test.gpu_device_name()"
      ]
    },
    {
      "cell_type": "markdown",
      "metadata": {
        "id": "Ouvw3amgCj8p"
      },
      "source": [
        "Install StellarGraph:"
      ]
    },
    {
      "cell_type": "code",
      "execution_count": null,
      "metadata": {
        "colab": {
          "base_uri": "https://localhost:8080/"
        },
        "id": "blDdF3wTskZt",
        "outputId": "cab398f9-2573-4021-8961-b16132dace6f"
      },
      "outputs": [
        {
          "output_type": "stream",
          "name": "stdout",
          "text": [
            "\u001b[2K     \u001b[90m━━━━━━━━━━━━━━━━━━━━━━━━━━━━━━━━━━━━━━\u001b[0m \u001b[32m435.2/435.2 KB\u001b[0m \u001b[31m28.0 MB/s\u001b[0m eta \u001b[36m0:00:00\u001b[0m\n",
            "\u001b[?25h  Preparing metadata (setup.py) ... \u001b[?25l\u001b[?25hdone\n",
            "\u001b[2K     \u001b[90m━━━━━━━━━━━━━━━━━━━━━━━━━━━━━━━━━━━━━━\u001b[0m \u001b[32m500.3/500.3 KB\u001b[0m \u001b[31m45.6 MB/s\u001b[0m eta \u001b[36m0:00:00\u001b[0m\n",
            "\u001b[2K     \u001b[90m━━━━━━━━━━━━━━━━━━━━━━━━━━━━━━━━━━━━━━\u001b[0m \u001b[32m121.0/121.0 KB\u001b[0m \u001b[31m16.2 MB/s\u001b[0m eta \u001b[36m0:00:00\u001b[0m\n",
            "\u001b[2K     \u001b[90m━━━━━━━━━━━━━━━━━━━━━━━━━━━━━━━━━━━━━━━━\u001b[0m \u001b[32m41.7/41.7 KB\u001b[0m \u001b[31m4.7 MB/s\u001b[0m eta \u001b[36m0:00:00\u001b[0m\n",
            "\u001b[2K     \u001b[90m━━━━━━━━━━━━━━━━━━━━━━━━━━━━━━━━━━━━━━━━\u001b[0m \u001b[32m83.6/83.6 KB\u001b[0m \u001b[31m11.2 MB/s\u001b[0m eta \u001b[36m0:00:00\u001b[0m\n",
            "\u001b[2K     \u001b[90m━━━━━━━━━━━━━━━━━━━━━━━━━━━━━━━━━━━━━━━━\u001b[0m \u001b[32m1.6/1.6 MB\u001b[0m \u001b[31m68.4 MB/s\u001b[0m eta \u001b[36m0:00:00\u001b[0m\n",
            "\u001b[?25h  Building wheel for mplleaflet (setup.py) ... \u001b[?25l\u001b[?25hdone\n"
          ]
        }
      ],
      "source": [
        "import sys\n",
        "if 'google.colab' in sys.modules:\n",
        "  %pip install -q stellargraph[demos]==1.2.1\n",
        "\n",
        "import stellargraph as sg\n",
        "\n",
        "try:\n",
        "    sg.utils.validate_notebook_version(\"1.2.1\")\n",
        "except AttributeError:\n",
        "    raise ValueError(\n",
        "        f\"This notebook requires StellarGraph version 1.2.1, but a different version {sg.__version__} is installed.  Please see <https://github.com/stellargraph/stellargraph/issues/1172>.\"\n",
        "    ) from None"
      ]
    },
    {
      "cell_type": "code",
      "execution_count": null,
      "metadata": {
        "id": "oLuR7gGu_VOx"
      },
      "outputs": [],
      "source": [
        "import networkx as nx\n",
        "import pandas as pd\n",
        "import numpy as np\n",
        "import itertools\n",
        "import os\n",
        "\n",
        "import matplotlib.pyplot as plt\n",
        "\n",
        "import stellargraph as sg\n",
        "from stellargraph.data import EdgeSplitter\n",
        "from stellargraph.mapper import GraphSAGELinkGenerator\n",
        "from stellargraph.layer import GraphSAGE, link_classification\n",
        "from stellargraph.calibration import expected_calibration_error, plot_reliability_diagram\n",
        "from stellargraph.calibration import IsotonicCalibration, TemperatureCalibration\n",
        "\n",
        "from tensorflow import keras\n",
        "from sklearn import preprocessing, feature_extraction, model_selection\n",
        "from sklearn.calibration import calibration_curve\n",
        "from sklearn.isotonic import IsotonicRegression\n",
        "from sklearn.metrics import accuracy_score\n",
        "\n",
        "from stellargraph import globalvar\n",
        "from stellargraph import datasets\n",
        "from IPython.display import display, HTML\n",
        "from  stellargraph import StellarGraph\n",
        "import pandas as pd\n",
        "\n",
        "\n",
        "%matplotlib inline"
      ]
    },
    {
      "cell_type": "markdown",
      "source": [
        "Import data and split between years to predict and years to train:"
      ],
      "metadata": {
        "id": "lS4bNy2XJZ6O"
      }
    },
    {
      "cell_type": "code",
      "execution_count": null,
      "metadata": {
        "colab": {
          "base_uri": "https://localhost:8080/"
        },
        "id": "QJ2xV8QabXOE",
        "outputId": "1d375270-e05e-400b-ff92-907d6e644e84"
      },
      "outputs": [
        {
          "output_type": "stream",
          "name": "stdout",
          "text": [
            "StellarGraph: Undirected multigraph\n",
            " Nodes: 2668, Edges: 117633\n",
            "\n",
            " Node types:\n",
            "  default: [2668]\n",
            "    Features: float32 vector, length 9\n",
            "    Edge types: default-default->default\n",
            "\n",
            " Edge types:\n",
            "    default-default->default: [117633]\n",
            "        Weights: all 1 (default)\n",
            "        Features: float32 vector, length 3\n",
            "StellarGraph: Undirected multigraph\n",
            " Nodes: 2668, Edges: 29410\n",
            "\n",
            " Node types:\n",
            "  default: [2668]\n",
            "    Features: float32 vector, length 9\n",
            "    Edge types: default-default->default\n",
            "\n",
            " Edge types:\n",
            "    default-default->default: [29410]\n",
            "        Weights: all 1 (default)\n",
            "        Features: float32 vector, length 3\n"
          ]
        }
      ],
      "source": [
        "import random\n",
        "import numpy as np\n",
        "from  stellargraph import StellarGraph\n",
        "import pandas as pd\n",
        "\n",
        "#load the data\n",
        "author_codes = np.load(\"/content/drive/MyDrive/scopus/data_scopus/author_codes.npy\", allow_pickle = True)\n",
        "affiliations = np.load(\"/content/drive/MyDrive/scopus/data_scopus/affiliations.npy\", allow_pickle = True)\n",
        "deg = np.load(\"/content/drive/MyDrive/scopus/data_scopus/deg.npy\",allow_pickle = True)\n",
        "har_cen = np.load(\"/content/drive/MyDrive/scopus/data_scopus/har_cen.npy\",allow_pickle = True)\n",
        "deg_cen = np.load(\"/content/drive/MyDrive/scopus/data_scopus/deg_cen.npy\",allow_pickle = True)\n",
        "clos_cen = np.load(\"/content/drive/MyDrive/scopus/data_scopus/clos_cen.npy\",allow_pickle = True)\n",
        "bet_cen = np.load(\"/content/drive/MyDrive/scopus/data_scopus/bet_cen.npy\",allow_pickle = True)\n",
        "load_cen = np.load(\"/content/drive/MyDrive/scopus/data_scopus/load_cen.npy\",allow_pickle = True)\n",
        "pagerank = np.load(\"/content/drive/MyDrive/scopus/data_scopus/pagerank.npy\",allow_pickle = True)\n",
        "nodes_index = np.load(\"/content/drive/MyDrive/scopus/data_scopus/nodes_index.npy\",allow_pickle = True)\n",
        "\n",
        "source = np.load(\"/content/drive/MyDrive/scopus/data_scopus/source.npy\",allow_pickle = True)\n",
        "target = np.load(\"/content/drive/MyDrive/scopus/data_scopus/target.npy\",allow_pickle = True)\n",
        "years = np.load(\"/content/drive/MyDrive/scopus/data_scopus/years.npy\",allow_pickle = True)\n",
        "collabs = np.load(\"/content/drive/MyDrive/scopus/data_scopus/collabs.npy\",allow_pickle = True)\n",
        "edge_load_cen = np.load(\"/content/drive/MyDrive/scopus/data_scopus/edge_load_cen.npy\",allow_pickle = True)\n",
        "\n",
        "\n",
        "source_train = []\n",
        "target_train = []\n",
        "years_train = []\n",
        "collabs_train = []\n",
        "edge_load_cen_train = []\n",
        "\n",
        "source_test = []\n",
        "target_test = []\n",
        "years_test = []\n",
        "collabs_test = []\n",
        "edge_load_cen_test = []\n",
        "\n",
        "p_size = 3  #the higher it is the less edges we take\n",
        "j = 1\n",
        "for i in range(len(years)):\n",
        "  if(years[i] == 2016):\n",
        "    years_test.append(years[i])\n",
        "    source_test.append(source[i])\n",
        "    target_test.append(target[i])\n",
        "    collabs_test.append(collabs[i])\n",
        "    edge_load_cen_test.append(edge_load_cen[i])\n",
        "  else:\n",
        "    if(j % (p_size*10) == 0):\n",
        "      years_train.append(years[i])\n",
        "      source_train.append(source[i])\n",
        "      target_train.append(target[i])\n",
        "      collabs_train.append(collabs[i])\n",
        "      edge_load_cen_train.append(edge_load_cen[i])\n",
        "    j+=1"
      ]
    },
    {
      "cell_type": "markdown",
      "metadata": {
        "id": "YT6SBmpiD6iC"
      },
      "source": [
        "Split graph into train-val-test:"
      ]
    },
    {
      "cell_type": "code",
      "execution_count": null,
      "metadata": {
        "colab": {
          "base_uri": "https://localhost:8080/"
        },
        "id": "YEjV_r0UIaeB",
        "outputId": "fb5d8175-d3d9-495d-f056-f2365a7480c3"
      },
      "outputs": [
        {
          "output_type": "stream",
          "name": "stdout",
          "text": [
            "StellarGraph: Undirected multigraph\n",
            " Nodes: 2668, Edges: 117633\n",
            "\n",
            " Node types:\n",
            "  default: [2668]\n",
            "    Features: float32 vector, length 9\n",
            "    Edge types: default-default->default\n",
            "\n",
            " Edge types:\n",
            "    default-default->default: [117633]\n",
            "        Weights: all 1 (default)\n",
            "        Features: float32 vector, length 3\n",
            "StellarGraph: Undirected multigraph\n",
            " Nodes: 2668, Edges: 29410\n",
            "\n",
            " Node types:\n",
            "  default: [2668]\n",
            "    Features: float32 vector, length 9\n",
            "    Edge types: default-default->default\n",
            "\n",
            " Edge types:\n",
            "    default-default->default: [29410]\n",
            "        Weights: all 1 (default)\n",
            "        Features: float32 vector, length 3\n",
            "** Sampled 26469 positive and 26469 negative edges. **\n",
            "** Sampled 10586 positive and 10586 negative edges. **\n",
            "** Sampled 80285 positive and 80285 negative edges. **\n"
          ]
        }
      ],
      "source": [
        "\n",
        "square_node_data = pd.DataFrame( #data structure for the nodes\n",
        "    {\"author_code\": author_codes,\"affiliations\": affiliations, \"degree\":deg, \"harmonic_centrality\":har_cen, \"degree_centrality\":deg_cen, \n",
        "    \"closeness_centrality\": clos_cen, \"betweenness_centrality\":bet_cen, \"load_centrality\":load_cen,\n",
        "     \"pagerank\": pagerank},\n",
        "     index = nodes_index)\n",
        "\n",
        "square_edges_train = pd.DataFrame( #data structure for the edges\n",
        "    {\"source\": source_train, \"target\": target_train, \"year\": years_train, \"collab\": collabs_train, \"load_centrality\": edge_load_cen_train}\n",
        ")\n",
        "\n",
        "G_train = StellarGraph(square_node_data, square_edges_train)\n",
        "print(G_train.info())\n",
        "\n",
        "\n",
        "square_edges_test = pd.DataFrame( #data structure for the edges\n",
        "    {\"source\": source_test, \"target\": target_test, \"year\": years_test, \"collab\": collabs_test, \"load_centrality\": edge_load_cen_test}\n",
        ")\n",
        "\n",
        "G_test = StellarGraph(square_node_data, square_edges_test)\n",
        "print(G_test.info())\n",
        "\n",
        "# train, test, validation split\n",
        "train_size = 0.75 \n",
        "val_size = 0.09\n",
        "test_size = 0.9\n",
        "\n",
        "edge_splitter_test = EdgeSplitter(G_test)\n",
        "\n",
        "G_test, edge_ids_test, edge_labels_test = edge_splitter_test.train_test_split(\n",
        "    p=test_size, method=\"global\", keep_connected=True)\n",
        "\n",
        "edge_splitter_val = EdgeSplitter(G_train)\n",
        "\n",
        "G_val, edge_ids_val, edge_labels_val = edge_splitter_val.train_test_split(\n",
        "    p=val_size, method=\"global\", keep_connected=True)\n",
        "\n",
        "edge_splitter_train = EdgeSplitter(G_val)\n",
        "\n",
        "G_train, edge_ids_train, edge_labels_train = edge_splitter_train.train_test_split(\n",
        "    p=train_size, method=\"global\", keep_connected=True)"
      ]
    },
    {
      "cell_type": "markdown",
      "metadata": {
        "id": "o8YLhuVvEKqw"
      },
      "source": [
        "Train the model:"
      ]
    },
    {
      "cell_type": "code",
      "execution_count": null,
      "metadata": {
        "colab": {
          "base_uri": "https://localhost:8080/"
        },
        "id": "WPZQZLZw8paL",
        "outputId": "de2be459-9a6c-4836-a661-dff64bdf37b4"
      },
      "outputs": [
        {
          "output_type": "stream",
          "name": "stdout",
          "text": [
            "link_classification: using 'ip' method to combine node embeddings into edge embeddings\n",
            "Epoch 1/100\n",
            "2509/2509 [==============================] - 2029s 808ms/step - loss: 0.7492 - accuracy: 0.5154 - val_loss: 0.7951 - val_accuracy: 0.5110 - lr: 5.0000e-04\n",
            "Epoch 2/100\n",
            "2509/2509 [==============================] - 2040s 813ms/step - loss: 0.7204 - accuracy: 0.5230 - val_loss: 0.7971 - val_accuracy: 0.5131 - lr: 5.0000e-04\n",
            "Epoch 3/100\n",
            "2509/2509 [==============================] - 1997s 796ms/step - loss: 0.7130 - accuracy: 0.5246 - val_loss: 0.8084 - val_accuracy: 0.5113 - lr: 5.0000e-04\n",
            "Epoch 4/100\n",
            "2509/2509 [==============================] - 1965s 783ms/step - loss: 0.7074 - accuracy: 0.5289 - val_loss: 0.8093 - val_accuracy: 0.5134 - lr: 5.0000e-04\n",
            "Epoch 5/100\n",
            "2509/2509 [==============================] - 1976s 788ms/step - loss: 0.7026 - accuracy: 0.5331 - val_loss: 0.8147 - val_accuracy: 0.5120 - lr: 5.0000e-04\n",
            "Epoch 6/100\n",
            "2509/2509 [==============================] - 1968s 784ms/step - loss: 0.7005 - accuracy: 0.5348 - val_loss: 0.8117 - val_accuracy: 0.5132 - lr: 5.0000e-04\n",
            "Epoch 7/100\n",
            "2509/2509 [==============================] - 1962s 782ms/step - loss: 0.6975 - accuracy: 0.5390 - val_loss: 0.8270 - val_accuracy: 0.5119 - lr: 2.5000e-04\n",
            "Epoch 8/100\n",
            "2509/2509 [==============================] - 1966s 783ms/step - loss: 0.6961 - accuracy: 0.5401 - val_loss: 0.8229 - val_accuracy: 0.5120 - lr: 2.5000e-04\n",
            "Epoch 9/100\n",
            "2509/2509 [==============================] - 1968s 784ms/step - loss: 0.6960 - accuracy: 0.5380 - val_loss: 0.8201 - val_accuracy: 0.5124 - lr: 1.2500e-04\n"
          ]
        }
      ],
      "source": [
        "from keras.callbacks import ModelCheckpoint, ReduceLROnPlateau, EarlyStopping\n",
        "from tensorflow.keras.optimizers import Adam\n",
        "\n",
        "batch_size = 64\n",
        "epochs = 100  \n",
        "\n",
        "num_samples = [20, 10, 10]\n",
        "\n",
        "train_gen = GraphSAGELinkGenerator(G_train, batch_size, num_samples)\n",
        "val_gen = GraphSAGELinkGenerator(G_val, batch_size, num_samples)\n",
        "test_gen = GraphSAGELinkGenerator(G_test, batch_size, num_samples)\n",
        "\n",
        "layer_sizes = [16, 16, 16]\n",
        "graphsage = GraphSAGE(\n",
        "    layer_sizes=layer_sizes, generator=train_gen, bias = True, dropout=0.3)\n",
        "\n",
        "x_inp, x_out = graphsage.in_out_tensors()\n",
        "\n",
        "logits = link_classification(output_dim=1, output_act=\"elu\", edge_embedding_method=\"ip\")(x_out)\n",
        "\n",
        "prediction = keras.layers.Activation(keras.activations.gelu)(logits)\n",
        "\n",
        "model = keras.Model(inputs=x_inp, outputs=prediction)\n",
        "\n",
        "model.compile(optimizer=Adam(learning_rate= 0.0005), loss='binary_crossentropy', metrics=['accuracy'])\n",
        "reduce_lr = ReduceLROnPlateau(monitor='val_accuracy', factor=0.5, patience=2, min_lr=0.00001)\n",
        "early_stop = EarlyStopping(monitor='val_accuracy', patience=5)\n",
        "\n",
        "train_flow = train_gen.flow(edge_ids_train, edge_labels_train, shuffle=True)\n",
        "val_flow = val_gen.flow(edge_ids_val, edge_labels_val, shuffle = False)\n",
        "test_flow = test_gen.flow(edge_ids_test, edge_labels_test, shuffle = False)\n",
        "\n",
        "history = model.fit(train_flow,steps_per_epoch = len(train_flow), epochs= epochs, callbacks=[reduce_lr, early_stop],validation_data = val_flow, validation_steps = len(val_flow),verbose=1)"
      ]
    },
    {
      "cell_type": "markdown",
      "metadata": {
        "id": "nVq6yow3EQex"
      },
      "source": [
        "Evaluate model:"
      ]
    },
    {
      "cell_type": "code",
      "execution_count": null,
      "metadata": {
        "colab": {
          "base_uri": "https://localhost:8080/",
          "height": 1000
        },
        "id": "3Ydw-zGs93dw",
        "outputId": "ac80ab65-b570-442f-d706-6b2eebcf2487"
      },
      "outputs": [
        {
          "output_type": "stream",
          "name": "stdout",
          "text": [
            "2509/2509 [==============================] - 1689s 673ms/step - loss: 0.7608 - accuracy: 0.5339\n",
            "331/331 [==============================] - 226s 683ms/step - loss: 0.8202 - accuracy: 0.5122\n",
            "828/828 [==============================] - 395s 477ms/step - loss: 0.5092 - accuracy: 0.7679\n",
            "\n",
            "Train Set Metrics of the trained model:\n",
            "\tloss: 0.7608\n",
            "\taccuracy: 0.5339\n",
            "\n",
            "Validation Set Metrics of the trained model:\n",
            "\tloss: 0.8202\n",
            "\taccuracy: 0.5122\n",
            "\n",
            "Test Set Metrics of the trained model:\n",
            "\tloss: 0.5092\n",
            "\taccuracy: 0.7679\n",
            "828/828 [==============================] - 390s 470ms/step\n"
          ]
        },
        {
          "output_type": "display_data",
          "data": {
            "text/plain": [
              "<Figure size 504x864 with 3 Axes>"
            ],
            "image/png": "[encoded data removed]"
          },
          "metadata": {
            "needs_background": "light"
          }
        }
      ],
      "source": [
        "sg.utils.plot_history(history)\n",
        "\n",
        "train_metrics = model.evaluate(train_flow)\n",
        "val_metrics = model.evaluate(val_flow)\n",
        "test_metrics = model.evaluate(test_flow)\n",
        "\n",
        "print(\"\\nTrain Set Metrics of the trained model:\")\n",
        "for name, val in zip(model.metrics_names, train_metrics):\n",
        "    print(\"\\t{}: {:0.4f}\".format(name, val))\n",
        "\n",
        "print(\"\\nValidation Set Metrics of the trained model:\")\n",
        "for name, val in zip(model.metrics_names, val_metrics):\n",
        "    print(\"\\t{}: {:0.4f}\".format(name, val))\n",
        "\n",
        "print(\"\\nTest Set Metrics of the trained model:\")\n",
        "for name, val in zip(model.metrics_names, test_metrics):\n",
        "    print(\"\\t{}: {:0.4f}\".format(name, val))\n",
        "\n",
        "\n",
        "num_tests = 1  # the number of times to generate predictions\n",
        "\n",
        "all_test_predictions = [\n",
        "    model.predict(test_flow, verbose=True) for _ in np.arange(num_tests)\n",
        "]"
      ]
    },
    {
      "cell_type": "markdown",
      "metadata": {
        "id": "lR2n2v7vh42M"
      },
      "source": [
        "Before calibrating, we calculate the expected calibration error on the test set:"
      ]
    },
    {
      "cell_type": "code",
      "execution_count": null,
      "metadata": {
        "id": "q6oc8Vmyh42M"
      },
      "outputs": [],
      "source": [
        "calibration_data = [calibration_curve(y_prob=test_predictions, y_true=edge_labels_test, n_bins=10, normalize=True)\n",
        "    for test_predictions in all_test_predictions]\n",
        "\n",
        "\n",
        "for fraction_of_positives, mean_predicted_value in calibration_data:\n",
        "    ece_pre_calibration = expected_calibration_error(\n",
        "        prediction_probabilities=all_test_predictions[0],\n",
        "        accuracy=fraction_of_positives,\n",
        "        confidence=mean_predicted_value,)\n",
        "    print(\"ECE: (before calibration) {:.4f}\".format(ece_pre_calibration))"
      ]
    },
    {
      "cell_type": "markdown",
      "metadata": {
        "id": "tfjDn7kkh42N"
      },
      "source": [
        "We will use Platt scaling to calibrate the model:"
      ]
    },
    {
      "cell_type": "code",
      "execution_count": null,
      "metadata": {
        "id": "9PzQUWIjh42R",
        "colab": {
          "base_uri": "https://localhost:8080/"
        },
        "outputId": "396e1443-0ae6-491d-a529-ff0acebb5255"
      },
      "outputs": [
        {
          "output_type": "stream",
          "name": "stdout",
          "text": [
            "331/331 [==============================] - 226s 680ms/step\n",
            "828/828 [==============================] - 388s 468ms/step\n",
            "828/828 [==============================] - 389s 470ms/step\n",
            "ECE (after calibration): 0.2226\n"
          ]
        },
        {
          "output_type": "stream",
          "name": "stderr",
          "text": [
            "/usr/local/lib/python3.8/dist-packages/sklearn/utils/validation.py:993: DataConversionWarning: A column-vector y was passed when a 1d array was expected. Please change the shape of y to (n_samples, ), for example using ravel().\n",
            "  y = column_or_1d(y, warn=True)\n"
          ]
        }
      ],
      "source": [
        "num_tests = 1\n",
        "score_model = keras.Model(inputs=x_inp, outputs=logits)\n",
        "\n",
        "all_val_score_predictions = [score_model.predict(val_flow, verbose=True) for _ in np.arange(num_tests)]\n",
        "all_test_score_predictions = [score_model.predict(test_flow, verbose=True) for _ in np.arange(num_tests)]\n",
        "all_test_probabilistic_predictions = [model.predict(test_flow, verbose=True) for _ in np.arange(num_tests)]\n",
        "\n",
        "val_predictions = np.mean(np.array(all_val_score_predictions), axis=0)\n",
        "\n",
        "test_predictions = np.mean(np.array(all_test_score_predictions), axis=0)\n",
        "\n",
        "# for binary classification this class performs Platt Scaling\n",
        "lr = TemperatureCalibration()\n",
        "\n",
        "lr.fit(val_predictions, edge_labels_val)\n",
        "\n",
        "lr_test_predictions = lr.predict(test_predictions)\n",
        "\n",
        "calibration_data = [calibration_curve(y_prob=lr_test_predictions, y_true=edge_labels_test, n_bins=10, normalize=True)]\n",
        "\n",
        "for fraction_of_positives, mean_predicted_value in calibration_data:\n",
        "    ece_post_calibration = expected_calibration_error(\n",
        "        prediction_probabilities=lr_test_predictions,\n",
        "        accuracy=fraction_of_positives,\n",
        "        confidence=mean_predicted_value,)\n",
        "    print(\"ECE (after calibration): {:.4f}\".format(ece_post_calibration))"
      ]
    },
    {
      "cell_type": "markdown",
      "metadata": {
        "id": "H9zJs5pPh42R"
      },
      "source": [
        "Check how the calibration improved the model:"
      ]
    },
    {
      "cell_type": "code",
      "execution_count": null,
      "metadata": {
        "id": "lmkERYlfh42R",
        "colab": {
          "base_uri": "https://localhost:8080/"
        },
        "outputId": "9ba54d4b-4421-4fe4-c19a-bd0e097e28b7"
      },
      "outputs": [
        {
          "output_type": "stream",
          "name": "stdout",
          "text": [
            "Accuracy of model before calibration: 0.77\n"
          ]
        }
      ],
      "source": [
        "y_pred = np.zeros(len(test_predictions))\n",
        "\n",
        " # the true predictions are the probabilistic outputs\n",
        "test_predictions = np.mean(np.array(all_test_probabilistic_predictions), axis=0)\n",
        "y_pred[test_predictions.reshape(-1) > 0.5] = 1\n",
        "print(\"Accuracy of model before calibration: {:.2f}\".format(\n",
        "        accuracy_score(y_pred=y_pred, y_true=edge_labels_test)))"
      ]
    },
    {
      "cell_type": "code",
      "execution_count": null,
      "metadata": {
        "id": "dpAOt8Kxh42R",
        "colab": {
          "base_uri": "https://localhost:8080/"
        },
        "outputId": "611b6929-7d1a-4502-8cb4-a51f799aa7c9"
      },
      "outputs": [
        {
          "output_type": "stream",
          "name": "stdout",
          "text": [
            "Accuracy for model after calibration: 0.68\n"
          ]
        }
      ],
      "source": [
        "y_pred = np.zeros(len(lr_test_predictions))\n",
        "y_pred[lr_test_predictions[:, 0] > 0.5] = 1\n",
        "print(\"Accuracy for model after calibration: {:.2f}\".format(\n",
        "        accuracy_score(y_pred=y_pred, y_true=edge_labels_test)))"
      ]
    }
  ],
  "metadata": {
    "colab": {
      "provenance": []
    },
    "gpuClass": "standard",
    "kernelspec": {
      "display_name": "Python 3",
      "name": "python3"
    },
    "language_info": {
      "name": "python"
    }
  },
  "nbformat": 4,
  "nbformat_minor": 0
}