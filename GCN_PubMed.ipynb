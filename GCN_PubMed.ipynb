{
  "cells": [
    {
      "cell_type": "code",
      "execution_count": null,
      "metadata": {
        "nbsphinx": "hidden",
        "tags": [
          "CloudRunner"
        ],
        "id": "3"
      },
      "outputs": [],
      "source": [
        "import sys\n",
        "if 'google.colab' in sys.modules:\n",
        "  %pip install -q stellargraph[demos]==1.2.1\n",
        "\n",
        "import stellargraph as sg\n",
        "\n",
        "try:\n",
        "    sg.utils.validate_notebook_version(\"1.2.1\")\n",
        "except AttributeError:\n",
        "    raise ValueError(\n",
        "        f\"This notebook requires StellarGraph version 1.2.1, but a different version {sg.__version__} is installed.  Please see <https://github.com/stellargraph/stellargraph/issues/1172>.\"\n",
        "    ) from None"
      ]
    },
    {
      "cell_type": "code",
      "execution_count": null,
      "metadata": {
        "id": "5"
      },
      "outputs": [],
      "source": [
        "import stellargraph as sg\n",
        "from stellargraph.data import EdgeSplitter\n",
        "from stellargraph.mapper import FullBatchLinkGenerator\n",
        "from stellargraph.layer import GCN, LinkEmbedding\n",
        "\n",
        "from keras.callbacks import ModelCheckpoint, ReduceLROnPlateau, EarlyStopping\n",
        "from tensorflow import keras\n",
        "from sklearn import preprocessing, feature_extraction, model_selection\n",
        "\n",
        "import numpy as np\n",
        "from stellargraph import globalvar\n",
        "from stellargraph import datasets\n",
        "from IPython.display import display, HTML\n",
        "%matplotlib inline"
      ]
    },
    {
      "cell_type": "markdown",
      "metadata": {
        "tags": [
          "DataLoadingLinks"
        ],
        "id": "7"
      },
      "source": [
        "Import the dataset:"
      ]
    },
    {
      "cell_type": "code",
      "execution_count": null,
      "metadata": {
        "tags": [
          "DataLoading"
        ],
        "id": "8",
        "outputId": "1b170252-7ed6-411b-9a89-5545140742af",
        "colab": {
          "base_uri": "https://localhost:8080/"
        }
      },
      "outputs": [
        {
          "output_type": "stream",
          "name": "stdout",
          "text": [
            "StellarGraph: Undirected multigraph\n",
            " Nodes: 19717, Edges: 44338\n",
            "\n",
            " Node types:\n",
            "  paper: [19717]\n",
            "    Features: float32 vector, length 500\n",
            "    Edge types: paper-cites->paper\n",
            "\n",
            " Edge types:\n",
            "    paper-cites->paper: [44338]\n",
            "        Weights: all 1 (default)\n",
            "        Features: none\n"
          ]
        }
      ],
      "source": [
        "dataset = datasets.PubMedDiabetes()\n",
        "\n",
        "G, _ = dataset.load()\n",
        "print(G.info())"
      ]
    },
    {
      "cell_type": "code",
      "source": [
        "# train, test, validation split\n",
        "train_size = 0.5 \n",
        "val_size = 0.05\n",
        "test_size = 0.05\n",
        "\n",
        "\n",
        "edge_splitter_test = EdgeSplitter(G)\n",
        "\n",
        "G_test, edge_ids_test, edge_labels_test = edge_splitter_test.train_test_split(\n",
        "    p=test_size, method=\"global\", keep_connected=True)\n",
        "\n",
        "edge_splitter_val = EdgeSplitter(G_test)\n",
        "\n",
        "G_val, edge_ids_val, edge_labels_val = edge_splitter_val.train_test_split(\n",
        "    p=val_size, method=\"global\", keep_connected=True)\n",
        "\n",
        "edge_splitter_train = EdgeSplitter(G_val)\n",
        "\n",
        "G_train, edge_ids_train, edge_labels_train = edge_splitter_train.train_test_split(\n",
        "    p=train_size, method=\"global\", keep_connected=True)"
      ],
      "metadata": {
        "colab": {
          "base_uri": "https://localhost:8080/"
        },
        "id": "T14paGmipyza",
        "outputId": "ede4f281-d820-4d4a-a166-9dd892ec73e0"
      },
      "execution_count": null,
      "outputs": [
        {
          "output_type": "stream",
          "name": "stdout",
          "text": [
            "** Sampled 2216 positive and 2216 negative edges. **\n",
            "** Sampled 2106 positive and 2106 negative edges. **\n",
            "** Sampled 20008 positive and 20008 negative edges. **\n"
          ]
        }
      ]
    },
    {
      "cell_type": "markdown",
      "metadata": {
        "id": "35"
      },
      "source": [
        "Train the model:"
      ]
    },
    {
      "cell_type": "code",
      "execution_count": null,
      "metadata": {
        "id": "36",
        "outputId": "eea47a86-6913-4f99-e4da-b0e993d4133f",
        "colab": {
          "base_uri": "https://localhost:8080/"
        }
      },
      "outputs": [
        {
          "output_type": "stream",
          "name": "stdout",
          "text": [
            "Epoch 1/100\n",
            "1/1 - 6s - loss: 0.9462 - binary_accuracy: 0.5072 - val_loss: 0.7644 - val_binary_accuracy: 0.5408 - lr: 5.0000e-04 - 6s/epoch - 6s/step\n",
            "Epoch 2/100\n",
            "1/1 - 2s - loss: 0.8844 - binary_accuracy: 0.5136 - val_loss: 0.7045 - val_binary_accuracy: 0.5605 - lr: 5.0000e-04 - 2s/epoch - 2s/step\n",
            "Epoch 3/100\n",
            "1/1 - 2s - loss: 0.8262 - binary_accuracy: 0.5214 - val_loss: 0.6494 - val_binary_accuracy: 0.5888 - lr: 5.0000e-04 - 2s/epoch - 2s/step\n",
            "Epoch 4/100\n",
            "1/1 - 1s - loss: 0.7670 - binary_accuracy: 0.5370 - val_loss: 0.5999 - val_binary_accuracy: 0.6223 - lr: 5.0000e-04 - 1s/epoch - 1s/step\n",
            "Epoch 5/100\n",
            "1/1 - 1s - loss: 0.7244 - binary_accuracy: 0.5540 - val_loss: 0.5568 - val_binary_accuracy: 0.6581 - lr: 5.0000e-04 - 784ms/epoch - 784ms/step\n",
            "Epoch 6/100\n",
            "1/1 - 1s - loss: 0.6840 - binary_accuracy: 0.5792 - val_loss: 0.5268 - val_binary_accuracy: 0.7011 - lr: 5.0000e-04 - 778ms/epoch - 778ms/step\n",
            "Epoch 7/100\n",
            "1/1 - 1s - loss: 0.6483 - binary_accuracy: 0.6094 - val_loss: 0.5024 - val_binary_accuracy: 0.7438 - lr: 5.0000e-04 - 775ms/epoch - 775ms/step\n",
            "Epoch 8/100\n",
            "1/1 - 1s - loss: 0.6333 - binary_accuracy: 0.6423 - val_loss: 0.4948 - val_binary_accuracy: 0.7711 - lr: 5.0000e-04 - 786ms/epoch - 786ms/step\n",
            "Epoch 9/100\n",
            "1/1 - 1s - loss: 0.6286 - binary_accuracy: 0.6773 - val_loss: 0.5168 - val_binary_accuracy: 0.8020 - lr: 5.0000e-04 - 764ms/epoch - 764ms/step\n",
            "Epoch 10/100\n",
            "1/1 - 1s - loss: 0.6451 - binary_accuracy: 0.7022 - val_loss: 0.5514 - val_binary_accuracy: 0.8094 - lr: 5.0000e-04 - 771ms/epoch - 771ms/step\n",
            "Epoch 11/100\n",
            "1/1 - 1s - loss: 0.6725 - binary_accuracy: 0.7165 - val_loss: 0.5782 - val_binary_accuracy: 0.8165 - lr: 5.0000e-04 - 799ms/epoch - 799ms/step\n",
            "Epoch 12/100\n",
            "1/1 - 1s - loss: 0.6934 - binary_accuracy: 0.7195 - val_loss: 0.5988 - val_binary_accuracy: 0.8165 - lr: 5.0000e-04 - 772ms/epoch - 772ms/step\n",
            "Epoch 13/100\n",
            "1/1 - 1s - loss: 0.7068 - binary_accuracy: 0.7270 - val_loss: 0.6017 - val_binary_accuracy: 0.8165 - lr: 5.0000e-04 - 760ms/epoch - 760ms/step\n",
            "Epoch 14/100\n",
            "1/1 - 1s - loss: 0.7257 - binary_accuracy: 0.7203 - val_loss: 0.5855 - val_binary_accuracy: 0.8162 - lr: 5.0000e-04 - 777ms/epoch - 777ms/step\n",
            "Epoch 15/100\n",
            "1/1 - 1s - loss: 0.7064 - binary_accuracy: 0.7220 - val_loss: 0.5635 - val_binary_accuracy: 0.8129 - lr: 4.5000e-04 - 772ms/epoch - 772ms/step\n",
            "Epoch 16/100\n",
            "1/1 - 1s - loss: 0.6837 - binary_accuracy: 0.7221 - val_loss: 0.5516 - val_binary_accuracy: 0.8091 - lr: 4.0500e-04 - 754ms/epoch - 754ms/step\n",
            "Epoch 17/100\n",
            "1/1 - 1s - loss: 0.6752 - binary_accuracy: 0.7184 - val_loss: 0.5299 - val_binary_accuracy: 0.8060 - lr: 3.6450e-04 - 783ms/epoch - 783ms/step\n",
            "Epoch 18/100\n",
            "1/1 - 1s - loss: 0.6572 - binary_accuracy: 0.7106 - val_loss: 0.5171 - val_binary_accuracy: 0.8013 - lr: 3.2805e-04 - 767ms/epoch - 767ms/step\n"
          ]
        }
      ],
      "source": [
        "epochs = 100\n",
        "\n",
        "train_gen = FullBatchLinkGenerator(G_train, method=\"gcn\")\n",
        "train_flow = train_gen.flow(edge_ids_train, edge_labels_train)\n",
        "\n",
        "val_gen = FullBatchLinkGenerator(G_val, method=\"gcn\")\n",
        "val_flow = val_gen.flow(edge_ids_val, edge_labels_val)\n",
        "\n",
        "test_gen = FullBatchLinkGenerator(G_test, method=\"gcn\")\n",
        "test_flow = test_gen.flow(edge_ids_test, edge_labels_test)\n",
        "\n",
        "gcn = GCN(layer_sizes=[10,16,32,64,16,8,64,512], \n",
        "          activations=[\"softmax\",\"relu\",\"relu\",\"elu\",\"relu\",\"softmax\",\"elu\",\"relu\"], generator=train_gen, dropout=0.3)\n",
        "\n",
        "x_inp, x_out = gcn.in_out_tensors()\n",
        "prediction = LinkEmbedding(activation=\"relu\", method=\"ip\")(x_out)\n",
        "prediction = keras.layers.Reshape((-1,))(prediction)\n",
        "\n",
        "model = keras.Model(inputs=x_inp, outputs=prediction)\n",
        "\n",
        "model.compile(optimizer=keras.optimizers.Adam(lr=0.0005),loss=keras.losses.binary_crossentropy,metrics=[\"binary_accuracy\"],)\n",
        "reduce_lr = ReduceLROnPlateau(monitor='binary_accuracy', factor=0.9, patience=1, min_lr=0.00001)\n",
        "early_stop = EarlyStopping(monitor='binary_accuracy', patience=5)\n",
        "\n",
        "history = model.fit(\n",
        "    train_flow,steps_per_epoch = len(train_flow), epochs=epochs,callbacks=[early_stop, reduce_lr], validation_data=val_flow, validation_steps = len(val_flow), verbose=2, shuffle=True)"
      ]
    },
    {
      "cell_type": "markdown",
      "metadata": {
        "id": "37"
      },
      "source": [
        "Plot the training history:"
      ]
    },
    {
      "cell_type": "code",
      "execution_count": null,
      "metadata": {
        "id": "38",
        "colab": {
          "base_uri": "https://localhost:8080/",
          "height": 873
        },
        "outputId": "2fd05a45-b68b-45ba-8fc2-a210483cd26e"
      },
      "outputs": [
        {
          "output_type": "display_data",
          "data": {
            "text/plain": [
              "<Figure size 504x864 with 3 Axes>"
            ],
            "image/png": "[encoded data removed]"
          },
          "metadata": {
            "needs_background": "light"
          }
        }
      ],
      "source": [
        "sg.utils.plot_history(history)"
      ]
    },
    {
      "cell_type": "markdown",
      "metadata": {
        "id": "39"
      },
      "source": [
        "Evaluate the trained model:"
      ]
    },
    {
      "cell_type": "code",
      "execution_count": null,
      "metadata": {
        "id": "40",
        "colab": {
          "base_uri": "https://localhost:8080/"
        },
        "outputId": "9117538f-3c63-4a42-d257-7d62543f4dab"
      },
      "outputs": [
        {
          "output_type": "stream",
          "name": "stdout",
          "text": [
            "1/1 [==============================] - 0s 246ms/step - loss: 0.6273 - binary_accuracy: 0.7078\n",
            "1/1 [==============================] - 0s 188ms/step - loss: 0.5171 - binary_accuracy: 0.8013\n",
            "1/1 [==============================] - 0s 189ms/step - loss: 0.5195 - binary_accuracy: 0.8098\n",
            "\n",
            "Train Set Metrics of the trained model:\n",
            "\tloss: 0.6273\n",
            "\tbinary_accuracy: 0.7078\n",
            "\n",
            "Validation Set Metrics of the trained model:\n",
            "\tloss: 0.5171\n",
            "\tbinary_accuracy: 0.8013\n",
            "\n",
            "Test Set Metrics of the trained model:\n",
            "\tloss: 0.5195\n",
            "\tbinary_accuracy: 0.8098\n"
          ]
        }
      ],
      "source": [
        "train_metrics = model.evaluate(train_flow)\n",
        "val_metrics = model.evaluate(val_flow)\n",
        "test_metrics = model.evaluate(test_flow)\n",
        "\n",
        "print(\"\\nTrain Set Metrics of the trained model:\")\n",
        "for name, val in zip(model.metrics_names, train_metrics):\n",
        "    print(\"\\t{}: {:0.4f}\".format(name, val))\n",
        "\n",
        "print(\"\\nValidation Set Metrics of the trained model:\")\n",
        "for name, val in zip(model.metrics_names, val_metrics):\n",
        "    print(\"\\t{}: {:0.4f}\".format(name, val))\n",
        "\n",
        "print(\"\\nTest Set Metrics of the trained model:\")\n",
        "for name, val in zip(model.metrics_names, test_metrics):\n",
        "    print(\"\\t{}: {:0.4f}\".format(name, val))"
      ]
    }
  ],
  "metadata": {
    "file_extension": ".py",
    "kernelspec": {
      "display_name": "Python 3",
      "language": "python",
      "name": "python3"
    },
    "language_info": {
      "codemirror_mode": {
        "name": "ipython",
        "version": 3
      },
      "file_extension": ".py",
      "mimetype": "text/x-python",
      "name": "python",
      "nbconvert_exporter": "python",
      "pygments_lexer": "ipython3",
      "version": "3.6.9"
    },
    "mimetype": "text/x-python",
    "name": "python",
    "npconvert_exporter": "python",
    "pygments_lexer": "ipython3",
    "version": 3,
    "colab": {
      "provenance": []
    },
    "gpuClass": "standard"
  },
  "nbformat": 4,
  "nbformat_minor": 0
}