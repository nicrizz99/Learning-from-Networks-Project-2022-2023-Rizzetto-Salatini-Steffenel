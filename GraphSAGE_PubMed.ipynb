{
  "cells": [
    {
      "cell_type": "markdown",
      "metadata": {
        "id": "4mkIPkgdVZ3b"
      },
      "source": [
        "Use GPU:"
      ]
    },
    {
      "cell_type": "code",
      "execution_count": null,
      "metadata": {
        "colab": {
          "base_uri": "https://localhost:8080/",
          "height": 36
        },
        "id": "cCkeS9M331fv",
        "outputId": "72496ae2-9f2b-4007-aba2-5a29cdbb730d"
      },
      "outputs": [
        {
          "output_type": "execute_result",
          "data": {
            "text/plain": [
              "''"
            ],
            "application/vnd.google.colaboratory.intrinsic+json": {
              "type": "string"
            }
          },
          "metadata": {},
          "execution_count": 1
        }
      ],
      "source": [
        "import numpy as np\n",
        "import matplotlib.pyplot as plt\n",
        "\n",
        "import torch\n",
        "import torch.nn as nn\n",
        "import torch.optim as optim\n",
        "from torch.utils.data import Dataset, DataLoader\n",
        "from torchvision import transforms\n",
        "import tensorflow as tf\n",
        "import keras\n",
        "\n",
        "tf.test.gpu_device_name()"
      ]
    },
    {
      "cell_type": "markdown",
      "metadata": {
        "id": "Ouvw3amgCj8p"
      },
      "source": [
        "Install StellarGraph:"
      ]
    },
    {
      "cell_type": "code",
      "execution_count": null,
      "metadata": {
        "id": "blDdF3wTskZt",
        "colab": {
          "base_uri": "https://localhost:8080/"
        },
        "outputId": "9af8a385-830e-40b4-9a08-a65f47f13891"
      },
      "outputs": [
        {
          "output_type": "stream",
          "name": "stdout",
          "text": [
            "\u001b[2K     \u001b[90m━━━━━━━━━━━━━━━━━━━━━━━━━━━━━━━━━━━━━━\u001b[0m \u001b[32m435.2/435.2 KB\u001b[0m \u001b[31m15.1 MB/s\u001b[0m eta \u001b[36m0:00:00\u001b[0m\n",
            "\u001b[2K     \u001b[90m━━━━━━━━━━━━━━━━━━━━━━━━━━━━━━━━━━━━━━\u001b[0m \u001b[32m500.3/500.3 KB\u001b[0m \u001b[31m14.8 MB/s\u001b[0m eta \u001b[36m0:00:00\u001b[0m\n",
            "\u001b[?25h  Preparing metadata (setup.py) ... \u001b[?25l\u001b[?25hdone\n",
            "\u001b[2K     \u001b[90m━━━━━━━━━━━━━━━━━━━━━━━━━━━━━━━━━━━━━━━\u001b[0m \u001b[32m121.0/121.0 KB\u001b[0m \u001b[31m2.6 MB/s\u001b[0m eta \u001b[36m0:00:00\u001b[0m\n",
            "\u001b[2K     \u001b[90m━━━━━━━━━━━━━━━━━━━━━━━━━━━━━━━━━━━━━━━━\u001b[0m \u001b[32m41.7/41.7 KB\u001b[0m \u001b[31m1.7 MB/s\u001b[0m eta \u001b[36m0:00:00\u001b[0m\n",
            "\u001b[2K     \u001b[90m━━━━━━━━━━━━━━━━━━━━━━━━━━━━━━━━━━━━━━━━\u001b[0m \u001b[32m83.6/83.6 KB\u001b[0m \u001b[31m4.6 MB/s\u001b[0m eta \u001b[36m0:00:00\u001b[0m\n",
            "\u001b[2K     \u001b[90m━━━━━━━━━━━━━━━━━━━━━━━━━━━━━━━━━━━━━━━━\u001b[0m \u001b[32m1.6/1.6 MB\u001b[0m \u001b[31m16.3 MB/s\u001b[0m eta \u001b[36m0:00:00\u001b[0m\n",
            "\u001b[?25h  Building wheel for mplleaflet (setup.py) ... \u001b[?25l\u001b[?25hdone\n"
          ]
        }
      ],
      "source": [
        "import sys\n",
        "if 'google.colab' in sys.modules:\n",
        "  %pip install -q stellargraph[demos]==1.2.1\n",
        "\n",
        "import stellargraph as sg\n",
        "\n",
        "try:\n",
        "    sg.utils.validate_notebook_version(\"1.2.1\")\n",
        "except AttributeError:\n",
        "    raise ValueError(\n",
        "        f\"This notebook requires StellarGraph version 1.2.1, but a different version {sg.__version__} is installed.  Please see <https://github.com/stellargraph/stellargraph/issues/1172>.\"\n",
        "    ) from None"
      ]
    },
    {
      "cell_type": "code",
      "execution_count": null,
      "metadata": {
        "id": "oLuR7gGu_VOx"
      },
      "outputs": [],
      "source": [
        "import networkx as nx\n",
        "import pandas as pd\n",
        "import numpy as np\n",
        "import itertools\n",
        "import os\n",
        "\n",
        "import matplotlib.pyplot as plt\n",
        "\n",
        "import stellargraph as sg\n",
        "from stellargraph.data import EdgeSplitter\n",
        "from stellargraph.mapper import GraphSAGELinkGenerator\n",
        "from stellargraph.layer import GraphSAGE, link_classification\n",
        "from stellargraph.calibration import expected_calibration_error, plot_reliability_diagram\n",
        "from stellargraph.calibration import IsotonicCalibration, TemperatureCalibration\n",
        "\n",
        "from tensorflow import keras\n",
        "from sklearn import preprocessing, feature_extraction, model_selection\n",
        "from sklearn.calibration import calibration_curve\n",
        "from sklearn.isotonic import IsotonicRegression\n",
        "from sklearn.metrics import accuracy_score\n",
        "\n",
        "from stellargraph import globalvar\n",
        "from stellargraph import datasets\n",
        "from IPython.display import display, HTML\n",
        "from  stellargraph import StellarGraph\n",
        "import pandas as pd\n",
        "\n",
        "\n",
        "%matplotlib inline"
      ]
    },
    {
      "cell_type": "markdown",
      "source": [
        "Import dataset:"
      ],
      "metadata": {
        "id": "kGFKHg97JQfN"
      }
    },
    {
      "cell_type": "code",
      "source": [
        "dataset = datasets.PubMedDiabetes()\n",
        "\n",
        "G, _ = dataset.load()\n",
        "print(G.info())"
      ],
      "metadata": {
        "colab": {
          "base_uri": "https://localhost:8080/"
        },
        "id": "za87C1p0wxjN",
        "outputId": "bc7b9880-6369-4358-9e34-dc39c0e535ad"
      },
      "execution_count": null,
      "outputs": [
        {
          "output_type": "stream",
          "name": "stdout",
          "text": [
            "StellarGraph: Undirected multigraph\n",
            " Nodes: 19717, Edges: 44338\n",
            "\n",
            " Node types:\n",
            "  paper: [19717]\n",
            "    Features: float32 vector, length 500\n",
            "    Edge types: paper-cites->paper\n",
            "\n",
            " Edge types:\n",
            "    paper-cites->paper: [44338]\n",
            "        Weights: all 1 (default)\n",
            "        Features: none\n"
          ]
        }
      ]
    },
    {
      "cell_type": "markdown",
      "metadata": {
        "id": "YT6SBmpiD6iC"
      },
      "source": [
        "Split graph into train-val-test:"
      ]
    },
    {
      "cell_type": "code",
      "execution_count": null,
      "metadata": {
        "colab": {
          "base_uri": "https://localhost:8080/"
        },
        "id": "qUVuBnw29urb",
        "outputId": "703805bc-8c7b-4843-b130-887c6016a3fe"
      },
      "outputs": [
        {
          "output_type": "stream",
          "name": "stdout",
          "text": [
            "** Sampled 2216 positive and 2216 negative edges. **\n",
            "** Sampled 2106 positive and 2106 negative edges. **\n",
            "** Sampled 20008 positive and 20008 negative edges. **\n"
          ]
        }
      ],
      "source": [
        "# train, test, validation split\n",
        "train_size = 0.5 \n",
        "val_size = 0.05\n",
        "test_size = 0.05\n",
        "\n",
        "\n",
        "edge_splitter_test = EdgeSplitter(G)\n",
        "\n",
        "G_test, edge_ids_test, edge_labels_test = edge_splitter_test.train_test_split(\n",
        "    p=test_size, method=\"global\", keep_connected=True)\n",
        "\n",
        "edge_splitter_val = EdgeSplitter(G_test)\n",
        "\n",
        "G_val, edge_ids_val, edge_labels_val = edge_splitter_val.train_test_split(\n",
        "    p=val_size, method=\"global\", keep_connected=True)\n",
        "\n",
        "edge_splitter_train = EdgeSplitter(G_val)\n",
        "\n",
        "G_train, edge_ids_train, edge_labels_train = edge_splitter_train.train_test_split(\n",
        "    p=train_size, method=\"global\", keep_connected=True)\n",
        "\n"
      ]
    },
    {
      "cell_type": "markdown",
      "metadata": {
        "id": "o8YLhuVvEKqw"
      },
      "source": [
        "Train the model:"
      ]
    },
    {
      "cell_type": "code",
      "execution_count": null,
      "metadata": {
        "colab": {
          "base_uri": "https://localhost:8080/"
        },
        "id": "WPZQZLZw8paL",
        "outputId": "8d676e00-e96c-4a83-cc33-16aad91ade2d"
      },
      "outputs": [
        {
          "output_type": "stream",
          "name": "stdout",
          "text": [
            "link_classification: using 'ip' method to combine node embeddings into edge embeddings\n",
            "Epoch 1/100\n",
            "626/626 - 1196s - loss: 0.5081 - accuracy: 0.7577 - val_loss: 0.4080 - val_accuracy: 0.8113 - lr: 0.0010 - 1196s/epoch - 2s/step\n",
            "Epoch 2/100\n",
            "626/626 - 1224s - loss: 0.4414 - accuracy: 0.8133 - val_loss: 0.3921 - val_accuracy: 0.8340 - lr: 0.0010 - 1224s/epoch - 2s/step\n",
            "Epoch 3/100\n",
            "626/626 - 1271s - loss: 0.4171 - accuracy: 0.8357 - val_loss: 0.3779 - val_accuracy: 0.8443 - lr: 0.0010 - 1271s/epoch - 2s/step\n",
            "Epoch 4/100\n",
            "626/626 - 1270s - loss: 0.3938 - accuracy: 0.8531 - val_loss: 0.3584 - val_accuracy: 0.8533 - lr: 0.0010 - 1270s/epoch - 2s/step\n",
            "Epoch 5/100\n",
            "626/626 - 1243s - loss: 0.3773 - accuracy: 0.8612 - val_loss: 0.3558 - val_accuracy: 0.8737 - lr: 0.0010 - 1243s/epoch - 2s/step\n",
            "Epoch 6/100\n",
            "626/626 - 1280s - loss: 0.3713 - accuracy: 0.8642 - val_loss: 0.3410 - val_accuracy: 0.8735 - lr: 0.0010 - 1280s/epoch - 2s/step\n",
            "Epoch 7/100\n",
            "626/626 - 1256s - loss: 0.4298 - accuracy: 0.8135 - val_loss: 0.3776 - val_accuracy: 0.8502 - lr: 0.0010 - 1256s/epoch - 2s/step\n",
            "Epoch 8/100\n",
            "626/626 - 1261s - loss: 0.3959 - accuracy: 0.8496 - val_loss: 0.3540 - val_accuracy: 0.8621 - lr: 2.0000e-04 - 1261s/epoch - 2s/step\n",
            "Epoch 9/100\n",
            "626/626 - 1250s - loss: 0.3788 - accuracy: 0.8574 - val_loss: 0.3443 - val_accuracy: 0.8689 - lr: 2.0000e-04 - 1250s/epoch - 2s/step\n",
            "Epoch 10/100\n",
            "626/626 - 1225s - loss: 0.3718 - accuracy: 0.8607 - val_loss: 0.3427 - val_accuracy: 0.8697 - lr: 1.0000e-04 - 1225s/epoch - 2s/step\n"
          ]
        }
      ],
      "source": [
        "from keras.callbacks import ModelCheckpoint, ReduceLROnPlateau, EarlyStopping\n",
        "from tensorflow.keras.optimizers import Adam\n",
        "\n",
        "batch_size = 64\n",
        "epochs = 100  # The number of training epochs for training the GraphSAGE model.\n",
        "\n",
        "num_samples = [20, 10, 10]\n",
        "\n",
        "train_gen = GraphSAGELinkGenerator(G_train, batch_size, num_samples)\n",
        "val_gen = GraphSAGELinkGenerator(G_val, batch_size, num_samples)\n",
        "test_gen = GraphSAGELinkGenerator(G_test, batch_size, num_samples)\n",
        "\n",
        "layer_sizes = [16, 16, 16]\n",
        "graphsage = GraphSAGE(\n",
        "    layer_sizes=layer_sizes, generator=train_gen, bias = True, dropout=0.3)\n",
        "\n",
        "x_inp, x_out = graphsage.in_out_tensors()\n",
        "\n",
        "logits = link_classification(output_dim=1, output_act=\"elu\", edge_embedding_method=\"ip\")(x_out)\n",
        "\n",
        "prediction = keras.layers.Activation(keras.activations.gelu)(logits)\n",
        "\n",
        "model = keras.Model(inputs=x_inp, outputs=prediction)\n",
        "\n",
        "\n",
        "model.compile(optimizer=Adam(learning_rate= 0.001), loss='binary_crossentropy', metrics=['accuracy'])\n",
        "reduce_lr = ReduceLROnPlateau(monitor='val_accuracy', factor=0.2, patience=2, min_lr=0.0001)\n",
        "early_stop = EarlyStopping(monitor='val_accuracy', patience=5)\n",
        "\n",
        "train_flow = train_gen.flow(edge_ids_train, edge_labels_train, shuffle=True)\n",
        "val_flow = val_gen.flow(edge_ids_val, edge_labels_val, shuffle = False)\n",
        "test_flow = test_gen.flow(edge_ids_test, edge_labels_test, shuffle = False)\n",
        "\n",
        "history = model.fit(train_flow,steps_per_epoch = len(train_flow), epochs= epochs, callbacks=[reduce_lr, early_stop],validation_data = val_flow, validation_steps = len(val_flow),verbose=2)"
      ]
    },
    {
      "cell_type": "markdown",
      "metadata": {
        "id": "nVq6yow3EQex"
      },
      "source": [
        "Evaluate model:"
      ]
    },
    {
      "cell_type": "code",
      "execution_count": null,
      "metadata": {
        "id": "3Ydw-zGs93dw",
        "colab": {
          "base_uri": "https://localhost:8080/",
          "height": 1000
        },
        "outputId": "caaff954-7f15-4caf-d4d0-10c443736538"
      },
      "outputs": [
        {
          "output_type": "stream",
          "name": "stdout",
          "text": [
            "626/626 [==============================] - 644s 1s/step - loss: 0.3527 - accuracy: 0.8646\n",
            "66/66 [==============================] - 66s 992ms/step - loss: 0.3481 - accuracy: 0.8699\n",
            "70/70 [==============================] - 68s 970ms/step - loss: 0.3374 - accuracy: 0.8678\n",
            "\n",
            "Train Set Metrics of the trained model:\n",
            "\tloss: 0.3527\n",
            "\taccuracy: 0.8646\n",
            "\n",
            "Validation Set Metrics of the trained model:\n",
            "\tloss: 0.3481\n",
            "\taccuracy: 0.8699\n",
            "\n",
            "Test Set Metrics of the trained model:\n",
            "\tloss: 0.3374\n",
            "\taccuracy: 0.8678\n",
            "70/70 [==============================] - 69s 973ms/step\n"
          ]
        },
        {
          "output_type": "display_data",
          "data": {
            "text/plain": [
              "<Figure size 504x864 with 3 Axes>"
            ],
            "image/png": "[encoded data removed]"
          },
          "metadata": {
            "needs_background": "light"
          }
        }
      ],
      "source": [
        "sg.utils.plot_history(history)\n",
        "\n",
        "train_metrics = model.evaluate(train_flow)\n",
        "val_metrics = model.evaluate(val_flow)\n",
        "test_metrics = model.evaluate(test_flow)\n",
        "\n",
        "print(\"\\nTrain Set Metrics of the trained model:\")\n",
        "for name, val in zip(model.metrics_names, train_metrics):\n",
        "    print(\"\\t{}: {:0.4f}\".format(name, val))\n",
        "\n",
        "print(\"\\nValidation Set Metrics of the trained model:\")\n",
        "for name, val in zip(model.metrics_names, val_metrics):\n",
        "    print(\"\\t{}: {:0.4f}\".format(name, val))\n",
        "\n",
        "print(\"\\nTest Set Metrics of the trained model:\")\n",
        "for name, val in zip(model.metrics_names, test_metrics):\n",
        "    print(\"\\t{}: {:0.4f}\".format(name, val))\n",
        "\n",
        "\n",
        "num_tests = 1  # the number of times to generate predictions\n",
        "\n",
        "all_test_predictions = [\n",
        "    model.predict(test_flow, verbose=True) for _ in np.arange(num_tests)\n",
        "]"
      ]
    },
    {
      "cell_type": "markdown",
      "source": [
        "Before calibrating, we calculate the expected calibration error on the test set:"
      ],
      "metadata": {
        "id": "dwfdH9eSIj1L"
      }
    },
    {
      "cell_type": "code",
      "execution_count": null,
      "metadata": {
        "id": "q6oc8Vmyh42M",
        "colab": {
          "base_uri": "https://localhost:8080/"
        },
        "outputId": "205fc8b6-0a67-41b5-9e0a-6f387e2480e7"
      },
      "outputs": [
        {
          "output_type": "stream",
          "name": "stdout",
          "text": [
            "ECE: (before calibration) 0.1846\n"
          ]
        }
      ],
      "source": [
        "calibration_data = [calibration_curve(y_prob=test_predictions, y_true=edge_labels_test, n_bins=10, normalize=True)\n",
        "    for test_predictions in all_test_predictions]\n",
        "\n",
        "\n",
        "for fraction_of_positives, mean_predicted_value in calibration_data:\n",
        "    ece_pre_calibration = expected_calibration_error(\n",
        "        prediction_probabilities=all_test_predictions[0],\n",
        "        accuracy=fraction_of_positives,\n",
        "        confidence=mean_predicted_value,)\n",
        "    print(\"ECE: (before calibration) {:.4f}\".format(ece_pre_calibration))"
      ]
    },
    {
      "cell_type": "markdown",
      "metadata": {
        "id": "tfjDn7kkh42N"
      },
      "source": [
        "We will use Platt scaling to calibrate the model:"
      ]
    },
    {
      "cell_type": "code",
      "execution_count": null,
      "metadata": {
        "id": "9PzQUWIjh42R",
        "colab": {
          "base_uri": "https://localhost:8080/"
        },
        "outputId": "837d42ba-c9d7-4b66-a24a-c29889de4df1"
      },
      "outputs": [
        {
          "output_type": "stream",
          "name": "stdout",
          "text": [
            "ECE (after calibration): 0.0117\n"
          ]
        }
      ],
      "source": [
        "num_tests = 1\n",
        "score_model = keras.Model(inputs=x_inp, outputs=logits)\n",
        "\n",
        "all_val_score_predictions = [score_model.predict(val_flow, verbose=True) for _ in np.arange(num_tests)]\n",
        "all_test_score_predictions = [score_model.predict(test_flow, verbose=True) for _ in np.arange(num_tests)]\n",
        "all_test_probabilistic_predictions = [model.predict(test_flow, verbose=True) for _ in np.arange(num_tests)]\n",
        "\n",
        "val_predictions = np.mean(np.array(all_val_score_predictions), axis=0)\n",
        "\n",
        "test_predictions = np.mean(np.array(all_test_score_predictions), axis=0)\n",
        "\n",
        "# for binary classification this class performs Platt Scaling\n",
        "lr = TemperatureCalibration()\n",
        "\n",
        "lr.fit(val_predictions, edge_labels_val)\n",
        "\n",
        "lr_test_predictions = lr.predict(test_predictions)\n",
        "\n",
        "calibration_data = [calibration_curve(y_prob=lr_test_predictions, y_true=edge_labels_test, n_bins=10, normalize=True)]\n",
        "\n",
        "for fraction_of_positives, mean_predicted_value in calibration_data:\n",
        "    ece_post_calibration = expected_calibration_error(\n",
        "        prediction_probabilities=lr_test_predictions,\n",
        "        accuracy=fraction_of_positives,\n",
        "        confidence=mean_predicted_value,)\n",
        "    print(\"ECE (after calibration): {:.4f}\".format(ece_post_calibration))"
      ]
    },
    {
      "cell_type": "markdown",
      "metadata": {
        "id": "H9zJs5pPh42R"
      },
      "source": [
        "Check how the calibration improved the model:"
      ]
    },
    {
      "cell_type": "code",
      "execution_count": null,
      "metadata": {
        "id": "lmkERYlfh42R",
        "colab": {
          "base_uri": "https://localhost:8080/"
        },
        "outputId": "92e9b4fa-dbdf-48f9-a2b9-de71ecd8ea36"
      },
      "outputs": [
        {
          "output_type": "stream",
          "name": "stdout",
          "text": [
            "Accuracy of model before calibration: 0.87\n"
          ]
        }
      ],
      "source": [
        "y_pred = np.zeros(len(test_predictions))\n",
        "\n",
        " # the true predictions are the probabilistic outputs\n",
        "test_predictions = np.mean(np.array(all_test_probabilistic_predictions), axis=0)\n",
        "y_pred[test_predictions.reshape(-1) > 0.5] = 1\n",
        "print(\"Accuracy of model before calibration: {:.2f}\".format(\n",
        "        accuracy_score(y_pred=y_pred, y_true=edge_labels_test)))"
      ]
    },
    {
      "cell_type": "code",
      "execution_count": null,
      "metadata": {
        "id": "dpAOt8Kxh42R",
        "colab": {
          "base_uri": "https://localhost:8080/"
        },
        "outputId": "15304b0a-c52e-4092-f16f-0f25709b3099"
      },
      "outputs": [
        {
          "output_type": "stream",
          "name": "stdout",
          "text": [
            "Accuracy for model after calibration: 0.88\n"
          ]
        }
      ],
      "source": [
        "y_pred = np.zeros(len(lr_test_predictions))\n",
        "y_pred[lr_test_predictions[:, 0] > 0.5] = 1\n",
        "print(\"Accuracy for model after calibration: {:.2f}\".format(\n",
        "        accuracy_score(y_pred=y_pred, y_true=edge_labels_test)))"
      ]
    }
  ],
  "metadata": {
    "colab": {
      "provenance": []
    },
    "gpuClass": "standard",
    "kernelspec": {
      "display_name": "Python 3",
      "name": "python3"
    },
    "language_info": {
      "name": "python"
    }
  },
  "nbformat": 4,
  "nbformat_minor": 0
}