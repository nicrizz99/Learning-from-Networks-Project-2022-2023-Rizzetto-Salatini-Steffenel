{
  "cells": [
    {
      "cell_type": "code",
      "execution_count": null,
      "metadata": {
        "colab": {
          "base_uri": "https://localhost:8080/"
        },
        "id": "Bb5rOE7coY4C",
        "outputId": "1e94c4e0-b188-420b-95fe-145398f96e88"
      },
      "outputs": [
        {
          "name": "stdout",
          "output_type": "stream",
          "text": [
            "Mounted at /content/drive\n"
          ]
        }
      ],
      "source": [
        "from google.colab import drive\n",
        "drive.mount('/content/drive')"
      ]
    },
    {
      "cell_type": "markdown",
      "metadata": {
        "id": "4mkIPkgdVZ3b"
      },
      "source": [
        "Use GPU:"
      ]
    },
    {
      "cell_type": "code",
      "execution_count": null,
      "metadata": {
        "colab": {
          "base_uri": "https://localhost:8080/",
          "height": 36
        },
        "id": "cCkeS9M331fv",
        "outputId": "243741c0-5860-4651-ca92-b611198c4396"
      },
      "outputs": [
        {
          "data": {
            "application/vnd.google.colaboratory.intrinsic+json": {
              "type": "string"
            },
            "text/plain": [
              "''"
            ]
          },
          "execution_count": 2,
          "metadata": {},
          "output_type": "execute_result"
        }
      ],
      "source": [
        "import numpy as np\n",
        "import matplotlib.pyplot as plt\n",
        "\n",
        "import torch\n",
        "import torch.nn as nn\n",
        "import torch.optim as optim\n",
        "from torch.utils.data import Dataset, DataLoader\n",
        "from torchvision import transforms\n",
        "import tensorflow as tf\n",
        "import keras\n",
        "\n",
        "tf.test.gpu_device_name()"
      ]
    },
    {
      "cell_type": "markdown",
      "metadata": {
        "id": "Ouvw3amgCj8p"
      },
      "source": [
        "Install StellarGraph:"
      ]
    },
    {
      "cell_type": "code",
      "execution_count": null,
      "metadata": {
        "colab": {
          "base_uri": "https://localhost:8080/"
        },
        "id": "blDdF3wTskZt",
        "outputId": "70d9a209-8857-46bb-cd46-3849518c21cf"
      },
      "outputs": [
        {
          "name": "stdout",
          "output_type": "stream",
          "text": [
            "\u001b[2K     \u001b[90m━━━━━━━━━━━━━━━━━━━━━━━━━━━━━━━━━━━━━━━\u001b[0m \u001b[32m435.2/435.2 KB\u001b[0m \u001b[31m8.6 MB/s\u001b[0m eta \u001b[36m0:00:00\u001b[0m\n",
            "\u001b[2K     \u001b[90m━━━━━━━━━━━━━━━━━━━━━━━━━━━━━━━━━━━━━━\u001b[0m \u001b[32m500.3/500.3 KB\u001b[0m \u001b[31m29.2 MB/s\u001b[0m eta \u001b[36m0:00:00\u001b[0m\n",
            "\u001b[?25h  Preparing metadata (setup.py) ... \u001b[?25l\u001b[?25hdone\n",
            "\u001b[2K     \u001b[90m━━━━━━━━━━━━━━━━━━━━━━━━━━━━━━━━━━━━━━\u001b[0m \u001b[32m121.0/121.0 KB\u001b[0m \u001b[31m10.5 MB/s\u001b[0m eta \u001b[36m0:00:00\u001b[0m\n",
            "\u001b[2K     \u001b[90m━━━━━━━━━━━━━━━━━━━━━━━━━━━━━━━━━━━━━━━━\u001b[0m \u001b[32m41.7/41.7 KB\u001b[0m \u001b[31m3.7 MB/s\u001b[0m eta \u001b[36m0:00:00\u001b[0m\n",
            "\u001b[2K     \u001b[90m━━━━━━━━━━━━━━━━━━━━━━━━━━━━━━━━━━━━━━━━\u001b[0m \u001b[32m83.6/83.6 KB\u001b[0m \u001b[31m8.7 MB/s\u001b[0m eta \u001b[36m0:00:00\u001b[0m\n",
            "\u001b[2K     \u001b[90m━━━━━━━━━━━━━━━━━━━━━━━━━━━━━━━━━━━━━━━━\u001b[0m \u001b[32m1.6/1.6 MB\u001b[0m \u001b[31m51.3 MB/s\u001b[0m eta \u001b[36m0:00:00\u001b[0m\n",
            "\u001b[?25h  Building wheel for mplleaflet (setup.py) ... \u001b[?25l\u001b[?25hdone\n"
          ]
        }
      ],
      "source": [
        "import sys\n",
        "if 'google.colab' in sys.modules:\n",
        "  %pip install -q stellargraph[demos]==1.2.1\n",
        "\n",
        "import stellargraph as sg\n",
        "\n",
        "try:\n",
        "    sg.utils.validate_notebook_version(\"1.2.1\")\n",
        "except AttributeError:\n",
        "    raise ValueError(\n",
        "        f\"This notebook requires StellarGraph version 1.2.1, but a different version {sg.__version__} is installed.  Please see <https://github.com/stellargraph/stellargraph/issues/1172>.\"\n",
        "    ) from None"
      ]
    },
    {
      "cell_type": "code",
      "execution_count": null,
      "metadata": {
        "id": "oLuR7gGu_VOx"
      },
      "outputs": [],
      "source": [
        "import networkx as nx\n",
        "import pandas as pd\n",
        "import numpy as np\n",
        "import itertools\n",
        "import os\n",
        "\n",
        "import matplotlib.pyplot as plt\n",
        "\n",
        "import stellargraph as sg\n",
        "from stellargraph.data import EdgeSplitter\n",
        "from stellargraph.mapper import GraphSAGELinkGenerator\n",
        "from stellargraph.layer import GraphSAGE, link_classification\n",
        "from stellargraph.calibration import expected_calibration_error, plot_reliability_diagram\n",
        "from stellargraph.calibration import IsotonicCalibration, TemperatureCalibration\n",
        "\n",
        "from tensorflow import keras\n",
        "from sklearn import preprocessing, feature_extraction, model_selection\n",
        "from sklearn.calibration import calibration_curve\n",
        "from sklearn.isotonic import IsotonicRegression\n",
        "from sklearn.metrics import accuracy_score\n",
        "\n",
        "from stellargraph import globalvar\n",
        "from stellargraph import datasets\n",
        "from IPython.display import display, HTML\n",
        "from  stellargraph import StellarGraph\n",
        "import pandas as pd\n",
        "\n",
        "\n",
        "%matplotlib inline"
      ]
    },
    {
      "cell_type": "markdown",
      "metadata": {
        "id": "EB9ccUSuJDqD"
      },
      "source": [
        "Import data and split between years to predict and years to train:"
      ]
    },
    {
      "cell_type": "code",
      "execution_count": null,
      "metadata": {
        "id": "QJ2xV8QabXOE"
      },
      "outputs": [],
      "source": [
        "import numpy as np\n",
        "from  stellargraph import StellarGraph\n",
        "import pandas as pd\n",
        "\n",
        "#load the data\n",
        "author_codes = np.load(\"/content/drive/MyDrive/lfnproject/author_codes.npy\", allow_pickle = True)\n",
        "deg = np.load(\"/content/drive/MyDrive/lfnproject/deg.npy\",allow_pickle = True)\n",
        "har_cen = np.load(\"/content/drive/MyDrive/lfnproject/har_cen.npy\",allow_pickle = True)\n",
        "deg_cen = np.load(\"/content/drive/MyDrive/lfnproject/deg_cen.npy\",allow_pickle = True)\n",
        "clos_cen = np.load(\"/content/drive/MyDrive/lfnproject/clos_cen.npy\",allow_pickle = True)\n",
        "bet_cen = np.load(\"/content/drive/MyDrive/lfnproject/bet_cen.npy\",allow_pickle = True)\n",
        "load_cen = np.load(\"/content/drive/MyDrive/lfnproject/load_cen.npy\",allow_pickle = True)\n",
        "square_clus = np.load(\"/content/drive/MyDrive/lfnproject/square_clus.npy\",allow_pickle = True)\n",
        "pagerank = np.load(\"/content/drive/MyDrive/lfnproject/pagerank.npy\",allow_pickle = True)\n",
        "constr = np.load(\"/content/drive/MyDrive/lfnproject/constr.npy\",allow_pickle = True)\n",
        "nodes_index = np.load(\"/content/drive/MyDrive/lfnproject/nodes_index.npy\",allow_pickle = True)\n",
        "source = np.load(\"/content/drive/MyDrive/lfnproject/source.npy\",allow_pickle = True)\n",
        "\n",
        "target = np.load(\"/content/drive/MyDrive/lfnproject/target.npy\",allow_pickle = True)\n",
        "years = np.load(\"/content/drive/MyDrive/lfnproject/years.npy\",allow_pickle = True)\n",
        "collabs = np.load(\"/content/drive/MyDrive/lfnproject/collabs.npy\",allow_pickle = True)\n",
        "edge_load_cen = np.load(\"/content/drive/MyDrive/lfnproject/edge_load_cen.npy\",allow_pickle = True)\n",
        "\n",
        "\n",
        "source_train = []\n",
        "target_train = []\n",
        "years_train = []\n",
        "collabs_train = []\n",
        "edge_load_cen_train = []\n",
        "\n",
        "source_test = []\n",
        "target_test = []\n",
        "years_test = []\n",
        "collabs_test = []\n",
        "edge_load_cen_test = []\n",
        "\n",
        "for i in range(len(years)):  #put 2003 collaborations in the test set\n",
        "  if(years[i] == 2003):\n",
        "    years_test.append(years[i])\n",
        "    source_test.append(source[i])\n",
        "    target_test.append(target[i])\n",
        "    collabs_test.append(collabs[i])\n",
        "    edge_load_cen_test.append(edge_load_cen[i])\n",
        "  else:\n",
        "    years_train.append(years[i])\n",
        "    source_train.append(source[i])\n",
        "    target_train.append(target[i])\n",
        "    collabs_train.append(collabs[i])\n",
        "    edge_load_cen_train.append(edge_load_cen[i])\n",
        "  "
      ]
    },
    {
      "cell_type": "markdown",
      "metadata": {
        "id": "YT6SBmpiD6iC"
      },
      "source": [
        "Split graph into train-val-test:"
      ]
    },
    {
      "cell_type": "code",
      "execution_count": null,
      "metadata": {
        "colab": {
          "base_uri": "https://localhost:8080/"
        },
        "id": "qUVuBnw29urb",
        "outputId": "d5016713-93ac-4039-a949-e079d7187e22"
      },
      "outputs": [
        {
          "name": "stdout",
          "output_type": "stream",
          "text": [
            "StellarGraph: Undirected multigraph\n",
            " Nodes: 15410, Edges: 26702\n",
            "\n",
            " Node types:\n",
            "  default: [15410]\n",
            "    Features: float32 vector, length 10\n",
            "    Edge types: default-default->default\n",
            "\n",
            " Edge types:\n",
            "    default-default->default: [26702]\n",
            "        Weights: all 1 (default)\n",
            "        Features: float32 vector, length 3\n",
            "StellarGraph: Undirected multigraph\n",
            " Nodes: 15410, Edges: 913\n",
            "\n",
            " Node types:\n",
            "  default: [15410]\n",
            "    Features: float32 vector, length 10\n",
            "    Edge types: default-default->default\n",
            "\n",
            " Edge types:\n",
            "    default-default->default: [913]\n",
            "        Weights: all 1 (default)\n",
            "        Features: float32 vector, length 3\n",
            "** Sampled 45 positive and 45 negative edges. **\n",
            "** Sampled 2670 positive and 2670 negative edges. **\n",
            "** Sampled 9612 positive and 9612 negative edges. **\n"
          ]
        }
      ],
      "source": [
        "square_node_data_train = pd.DataFrame( #data structure for the nodes\n",
        "    {\"author_code\": author_codes,\"degree\":deg, \"harmonic_centrality\":har_cen, \"degree_centrality\":deg_cen, \n",
        "    \"closeness_centrality\": clos_cen, \"betweenness_centrality\":bet_cen, \"load_centrality\":load_cen,\n",
        "     \"square_clustering\":square_clus, \"pagerank\": pagerank,  \"constraint\": constr},\n",
        "     index = nodes_index)\n",
        "\n",
        "square_edges_train = pd.DataFrame( #data structure for the edges\n",
        "    {\"source\": source_train, \"target\": target_train, \"year\": years_train, \"collab\": collabs_train, \"load_centrality\": edge_load_cen_train}\n",
        ")\n",
        "\n",
        "G_train = StellarGraph(square_node_data_train, square_edges_train) #build graph\n",
        "print(G_train.info())\n",
        "\n",
        "\n",
        "square_node_data_test = pd.DataFrame( #data structure for the nodes\n",
        "    {\"author_code\": author_codes,\"degree\":deg, \"harmonic_centrality\":har_cen, \"degree_centrality\":deg_cen, \n",
        "    \"closeness_centrality\": clos_cen, \"betweenness_centrality\":bet_cen, \"load_centrality\":load_cen,\n",
        "     \"square_clustering\":square_clus, \"pagerank\": pagerank,  \"constraint\": constr},\n",
        "     index = nodes_index)\n",
        "\n",
        "square_edges_test = pd.DataFrame( #data structure for the edges\n",
        "    {\"source\": source_test, \"target\": target_test, \"year\": years_test, \"collab\": collabs_test, \"load_centrality\": edge_load_cen_test}\n",
        ")\n",
        "\n",
        "G_test = StellarGraph(square_node_data_test, square_edges_test) #build graph\n",
        "print(G_test.info())\n",
        "\n",
        "# train, test, validation split\n",
        "train_size = 0.4 \n",
        "val_size = 0.1\n",
        "test_size = 0.05\n",
        "\n",
        "#sum of sizes doesn't sum up to 1 because since we want the splits\n",
        "#to be connected we can't use 100% of the graph\n",
        "\n",
        "# Define an edge splitter on the reduced graph G_train:\n",
        "edge_splitter_test = EdgeSplitter(G_test)\n",
        "\n",
        "# Randomly sample a fraction p=test_size of all positive links, and same number of negative links, from G_test, and obtain the\n",
        "# reduced graph G_test with the sampled links removed:\n",
        "G_test, edge_ids_test, edge_labels_test = edge_splitter_test.train_test_split(\n",
        "    p=test_size, method=\"global\", keep_connected=True)\n",
        "\n",
        "edge_splitter_val = EdgeSplitter(G_train)\n",
        "\n",
        "# Randomly sample a fraction p=val_size of all positive links, and same number of negative links, from G_train, and obtain the\n",
        "# reduced graph G_val with the sampled links removed, that will be used to sample the train edges:\n",
        "G_val, edge_ids_val, edge_labels_val = edge_splitter_val.train_test_split(\n",
        "    p=val_size, method=\"global\", keep_connected=True)\n",
        "\n",
        "\n",
        "edge_splitter_train = EdgeSplitter(G_val)\n",
        "\n",
        "G_train, edge_ids_train, edge_labels_train = edge_splitter_train.train_test_split(\n",
        "    p=train_size, method=\"global\", keep_connected=True)"
      ]
    },
    {
      "cell_type": "markdown",
      "metadata": {
        "id": "o8YLhuVvEKqw"
      },
      "source": [
        "Train the model:"
      ]
    },
    {
      "cell_type": "code",
      "execution_count": null,
      "metadata": {
        "colab": {
          "base_uri": "https://localhost:8080/"
        },
        "id": "WPZQZLZw8paL",
        "outputId": "fd788679-e33b-43db-abbd-ae17d3b5fc08"
      },
      "outputs": [
        {
          "name": "stdout",
          "output_type": "stream",
          "text": [
            "link_classification: using 'ip' method to combine node embeddings into edge embeddings\n",
            "Epoch 1/100\n",
            "301/301 - 406s - loss: 0.7046 - accuracy: 0.5953 - val_loss: 0.6438 - val_accuracy: 0.6114 - lr: 0.0010 - 406s/epoch - 1s/step\n",
            "Epoch 2/100\n",
            "301/301 - 385s - loss: 0.6306 - accuracy: 0.6348 - val_loss: 0.6259 - val_accuracy: 0.6388 - lr: 0.0010 - 385s/epoch - 1s/step\n",
            "Epoch 3/100\n",
            "301/301 - 386s - loss: 0.6180 - accuracy: 0.6539 - val_loss: 0.6097 - val_accuracy: 0.6601 - lr: 0.0010 - 386s/epoch - 1s/step\n",
            "Epoch 4/100\n",
            "301/301 - 379s - loss: 0.6025 - accuracy: 0.6672 - val_loss: 0.6036 - val_accuracy: 0.6661 - lr: 0.0010 - 379s/epoch - 1s/step\n",
            "Epoch 5/100\n",
            "301/301 - 375s - loss: 0.5931 - accuracy: 0.6777 - val_loss: 0.6400 - val_accuracy: 0.6337 - lr: 0.0010 - 375s/epoch - 1s/step\n",
            "Epoch 6/100\n",
            "301/301 - 381s - loss: 0.5882 - accuracy: 0.6824 - val_loss: 0.5963 - val_accuracy: 0.6725 - lr: 0.0010 - 381s/epoch - 1s/step\n",
            "Epoch 7/100\n",
            "301/301 - 377s - loss: 0.5847 - accuracy: 0.6928 - val_loss: 0.5864 - val_accuracy: 0.6822 - lr: 0.0010 - 377s/epoch - 1s/step\n",
            "Epoch 8/100\n",
            "301/301 - 384s - loss: 0.5811 - accuracy: 0.6915 - val_loss: 0.5655 - val_accuracy: 0.6933 - lr: 0.0010 - 384s/epoch - 1s/step\n",
            "Epoch 9/100\n",
            "301/301 - 376s - loss: 0.5800 - accuracy: 0.7004 - val_loss: 0.5963 - val_accuracy: 0.6730 - lr: 0.0010 - 376s/epoch - 1s/step\n",
            "Epoch 10/100\n",
            "301/301 - 379s - loss: 0.5722 - accuracy: 0.6990 - val_loss: 0.5824 - val_accuracy: 0.6833 - lr: 0.0010 - 379s/epoch - 1s/step\n",
            "Epoch 11/100\n",
            "301/301 - 377s - loss: 0.5747 - accuracy: 0.7027 - val_loss: 0.5862 - val_accuracy: 0.6796 - lr: 5.0000e-04 - 377s/epoch - 1s/step\n",
            "Epoch 12/100\n",
            "301/301 - 377s - loss: 0.5714 - accuracy: 0.7078 - val_loss: 0.5746 - val_accuracy: 0.6875 - lr: 5.0000e-04 - 377s/epoch - 1s/step\n",
            "Epoch 13/100\n",
            "301/301 - 372s - loss: 0.5699 - accuracy: 0.7087 - val_loss: 0.5656 - val_accuracy: 0.6933 - lr: 2.5000e-04 - 372s/epoch - 1s/step\n"
          ]
        }
      ],
      "source": [
        "from keras.callbacks import ModelCheckpoint, ReduceLROnPlateau, EarlyStopping\n",
        "from tensorflow.keras.optimizers import Adam\n",
        "\n",
        "batch_size = 64\n",
        "epochs = 100  \n",
        "\n",
        "num_samples = [20, 10, 10]  #number of samples to use in the layers, respectively for 1,2 and 3-hop\n",
        "\n",
        "#generate links for the training\n",
        "train_gen = GraphSAGELinkGenerator(G_train, batch_size, num_samples)\n",
        "val_gen = GraphSAGELinkGenerator(G_val, batch_size, num_samples)\n",
        "test_gen = GraphSAGELinkGenerator(G_test, batch_size, num_samples)\n",
        "\n",
        "#we use 3 layers, respectively for 1,2 and 3-hop\n",
        "layer_sizes = [16, 16, 16]\n",
        "graphsage = GraphSAGE(\n",
        "    layer_sizes=layer_sizes, generator=train_gen, bias = True, dropout=0.3)\n",
        "\n",
        "x_inp, x_out = graphsage.in_out_tensors()\n",
        "\n",
        "logits = link_classification(output_dim=1, output_act=\"elu\", edge_embedding_method=\"ip\")(x_out)\n",
        "\n",
        "prediction = keras.layers.Activation(keras.activations.gelu)(logits)\n",
        "\n",
        "model = keras.Model(inputs=x_inp, outputs=prediction)\n",
        "\n",
        "\n",
        "model.compile(optimizer=Adam(learning_rate= 0.001), loss='binary_crossentropy', metrics=['accuracy'])\n",
        "reduce_lr = ReduceLROnPlateau(monitor='val_accuracy', factor=0.5, patience=2, min_lr=0.0001)\n",
        "early_stop = EarlyStopping(monitor='val_accuracy', patience=5)\n",
        "\n",
        "train_flow = train_gen.flow(edge_ids_train, edge_labels_train, shuffle=True)\n",
        "val_flow = val_gen.flow(edge_ids_val, edge_labels_val, shuffle = False)\n",
        "test_flow = test_gen.flow(edge_ids_test, edge_labels_test, shuffle = False)\n",
        "\n",
        "history = model.fit(train_flow,steps_per_epoch = len(train_flow), epochs= epochs, callbacks=[reduce_lr, early_stop],validation_data = val_flow, validation_steps = len(val_flow),verbose=2)"
      ]
    },
    {
      "cell_type": "markdown",
      "metadata": {
        "id": "nVq6yow3EQex"
      },
      "source": [
        "Evaluate model:"
      ]
    },
    {
      "cell_type": "code",
      "execution_count": null,
      "metadata": {
        "colab": {
          "base_uri": "https://localhost:8080/",
          "height": 1000
        },
        "id": "3Ydw-zGs93dw",
        "outputId": "6cbb844c-4eff-4ff7-875b-200adf4d7740"
      },
      "outputs": [
        {
          "name": "stdout",
          "output_type": "stream",
          "text": [
            "301/301 [==============================] - 293s 974ms/step - loss: 0.5558 - accuracy: 0.7233\n",
            "84/84 [==============================] - 81s 966ms/step - loss: 0.5669 - accuracy: 0.6938\n",
            "2/2 [==============================] - 1s 145ms/step - loss: 0.8511 - accuracy: 0.4556\n",
            "\n",
            "Train Set Metrics of the trained model:\n",
            "\tloss: 0.5558\n",
            "\taccuracy: 0.7233\n",
            "\n",
            "Validation Set Metrics of the trained model:\n",
            "\tloss: 0.5669\n",
            "\taccuracy: 0.6938\n",
            "\n",
            "Test Set Metrics of the trained model:\n",
            "\tloss: 0.8511\n",
            "\taccuracy: 0.4556\n",
            "2/2 [==============================] - 1s 145ms/step\n"
          ]
        },
        {
          "data": {
            "image/png": "[encoded data removed]",
            "text/plain": [
              "<Figure size 504x864 with 3 Axes>"
            ]
          },
          "metadata": {
            "needs_background": "light"
          },
          "output_type": "display_data"
        }
      ],
      "source": [
        "sg.utils.plot_history(history)\n",
        "\n",
        "train_metrics = model.evaluate(train_flow)\n",
        "val_metrics = model.evaluate(val_flow)\n",
        "test_metrics = model.evaluate(test_flow)\n",
        "\n",
        "print(\"\\nTrain Set Metrics of the trained model:\")\n",
        "for name, val in zip(model.metrics_names, train_metrics):\n",
        "    print(\"\\t{}: {:0.4f}\".format(name, val))\n",
        "\n",
        "print(\"\\nValidation Set Metrics of the trained model:\")\n",
        "for name, val in zip(model.metrics_names, val_metrics):\n",
        "    print(\"\\t{}: {:0.4f}\".format(name, val))\n",
        "\n",
        "print(\"\\nTest Set Metrics of the trained model:\")\n",
        "for name, val in zip(model.metrics_names, test_metrics):\n",
        "    print(\"\\t{}: {:0.4f}\".format(name, val))\n",
        "\n",
        "\n",
        "num_tests = 1  # the number of times to generate predictions\n",
        "\n",
        "all_test_predictions = [\n",
        "    model.predict(test_flow, verbose=True) for _ in np.arange(num_tests)\n",
        "]"
      ]
    },
    {
      "cell_type": "markdown",
      "metadata": {
        "id": "lR2n2v7vh42M"
      },
      "source": [
        "Before calibrating, we calculate the expected calibration error on the test set:"
      ]
    },
    {
      "cell_type": "code",
      "execution_count": null,
      "metadata": {
        "colab": {
          "base_uri": "https://localhost:8080/"
        },
        "id": "q6oc8Vmyh42M",
        "outputId": "6eb3874f-5f76-4ca2-c105-6b5d4f8c82ee"
      },
      "outputs": [
        {
          "name": "stdout",
          "output_type": "stream",
          "text": [
            "ECE: (before calibration) 0.2894\n"
          ]
        }
      ],
      "source": [
        "calibration_data = [calibration_curve(y_prob=test_predictions, y_true=edge_labels_test, n_bins=10, normalize=True)\n",
        "    for test_predictions in all_test_predictions]\n",
        "\n",
        "\n",
        "for fraction_of_positives, mean_predicted_value in calibration_data:\n",
        "    ece_pre_calibration = expected_calibration_error(\n",
        "        prediction_probabilities=all_test_predictions[0],\n",
        "        accuracy=fraction_of_positives,\n",
        "        confidence=mean_predicted_value,)\n",
        "    print(\"ECE: (before calibration) {:.4f}\".format(ece_pre_calibration))"
      ]
    },
    {
      "cell_type": "markdown",
      "metadata": {
        "id": "4Mq-XefsGQyH"
      },
      "source": [
        "We will use Platt scaling to calibrate the model:"
      ]
    },
    {
      "cell_type": "code",
      "execution_count": null,
      "metadata": {
        "colab": {
          "base_uri": "https://localhost:8080/"
        },
        "id": "9PzQUWIjh42R",
        "outputId": "df6c4d8c-b693-4f52-baeb-6a90f5dae69b"
      },
      "outputs": [
        {
          "name": "stdout",
          "output_type": "stream",
          "text": [
            "ECE (after calibration): 0.4321\n"
          ]
        }
      ],
      "source": [
        "num_tests = 1\n",
        "score_model = keras.Model(inputs=x_inp, outputs=logits)\n",
        "\n",
        "all_val_score_predictions = [score_model.predict(val_flow, verbose=True) for _ in np.arange(num_tests)]\n",
        "all_test_score_predictions = [score_model.predict(test_flow, verbose=True) for _ in np.arange(num_tests)]\n",
        "all_test_probabilistic_predictions = [model.predict(test_flow, verbose=True) for _ in np.arange(num_tests)]\n",
        "\n",
        "val_predictions = np.mean(np.array(all_val_score_predictions), axis=0)\n",
        "\n",
        "test_predictions = np.mean(np.array(all_test_score_predictions), axis=0)\n",
        "\n",
        "# for binary classification this class performs Platt Scaling\n",
        "lr = TemperatureCalibration()\n",
        "\n",
        "lr.fit(val_predictions, edge_labels_val)\n",
        "\n",
        "lr_test_predictions = lr.predict(test_predictions)\n",
        "\n",
        "calibration_data = [calibration_curve(y_prob=lr_test_predictions, y_true=edge_labels_test, n_bins=10, normalize=True)]\n",
        "\n",
        "for fraction_of_positives, mean_predicted_value in calibration_data:\n",
        "    ece_post_calibration = expected_calibration_error(\n",
        "        prediction_probabilities=lr_test_predictions,\n",
        "        accuracy=fraction_of_positives,\n",
        "        confidence=mean_predicted_value,)\n",
        "    print(\"ECE (after calibration): {:.4f}\".format(ece_post_calibration))"
      ]
    },
    {
      "cell_type": "markdown",
      "metadata": {
        "id": "H9zJs5pPh42R"
      },
      "source": [
        "Check how the calibration improved the model:"
      ]
    },
    {
      "cell_type": "code",
      "execution_count": null,
      "metadata": {
        "colab": {
          "base_uri": "https://localhost:8080/"
        },
        "id": "lmkERYlfh42R",
        "outputId": "f99f4e60-9668-4c50-da7d-6fdbfe1006f9"
      },
      "outputs": [
        {
          "name": "stdout",
          "output_type": "stream",
          "text": [
            "Accuracy of model before calibration: 0.46\n"
          ]
        }
      ],
      "source": [
        "y_pred = np.zeros(len(test_predictions))\n",
        "\n",
        " # the true predictions are the probabilistic outputs\n",
        "test_predictions = np.mean(np.array(all_test_probabilistic_predictions), axis=0)\n",
        "y_pred[test_predictions.reshape(-1) > 0.5] = 1\n",
        "print(\"Accuracy of model before calibration: {:.2f}\".format(\n",
        "        accuracy_score(y_pred=y_pred, y_true=edge_labels_test)))"
      ]
    },
    {
      "cell_type": "code",
      "execution_count": null,
      "metadata": {
        "colab": {
          "base_uri": "https://localhost:8080/"
        },
        "id": "dpAOt8Kxh42R",
        "outputId": "5cdc681a-b47e-4db3-f992-639a622d3bf9"
      },
      "outputs": [
        {
          "name": "stdout",
          "output_type": "stream",
          "text": [
            "Accuracy for model after calibration: 0.56\n"
          ]
        }
      ],
      "source": [
        "y_pred = np.zeros(len(lr_test_predictions))\n",
        "y_pred[lr_test_predictions[:, 0] > 0.5] = 1\n",
        "print(\"Accuracy for model after calibration: {:.2f}\".format(\n",
        "        accuracy_score(y_pred=y_pred, y_true=edge_labels_test)))"
      ]
    }
  ],
  "metadata": {
    "colab": {
      "provenance": []
    },
    "gpuClass": "standard",
    "kernelspec": {
      "display_name": "Python 3",
      "name": "python3"
    },
    "language_info": {
      "name": "python"
    }
  },
  "nbformat": 4,
  "nbformat_minor": 0
}
